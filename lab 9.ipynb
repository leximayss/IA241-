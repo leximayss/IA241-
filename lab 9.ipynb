{
 "cells": [
  {
   "cell_type": "code",
   "execution_count": 1,
   "metadata": {},
   "outputs": [],
   "source": [
    "%matplotlib inline"
   ]
  },
  {
   "cell_type": "code",
   "execution_count": 2,
   "metadata": {},
   "outputs": [],
   "source": [
    "import pandas"
   ]
  },
  {
   "cell_type": "code",
   "execution_count": 4,
   "metadata": {},
   "outputs": [
    {
     "data": {
      "text/html": [
       "<div>\n",
       "<style scoped>\n",
       "    .dataframe tbody tr th:only-of-type {\n",
       "        vertical-align: middle;\n",
       "    }\n",
       "\n",
       "    .dataframe tbody tr th {\n",
       "        vertical-align: top;\n",
       "    }\n",
       "\n",
       "    .dataframe thead th {\n",
       "        text-align: right;\n",
       "    }\n",
       "</style>\n",
       "<table border=\"1\" class=\"dataframe\">\n",
       "  <thead>\n",
       "    <tr style=\"text-align: right;\">\n",
       "      <th></th>\n",
       "      <th>price</th>\n",
       "      <th>bathroom</th>\n",
       "      <th>house_type</th>\n",
       "      <th>lot_size</th>\n",
       "      <th>built_in</th>\n",
       "      <th>area</th>\n",
       "    </tr>\n",
       "  </thead>\n",
       "  <tbody>\n",
       "    <tr>\n",
       "      <th>0</th>\n",
       "      <td>159900</td>\n",
       "      <td>1</td>\n",
       "      <td>single-family home</td>\n",
       "      <td>5662</td>\n",
       "      <td>1924</td>\n",
       "      <td>1584</td>\n",
       "    </tr>\n",
       "    <tr>\n",
       "      <th>1</th>\n",
       "      <td>1100000</td>\n",
       "      <td>1</td>\n",
       "      <td>single-family home</td>\n",
       "      <td>4138200</td>\n",
       "      <td>1932</td>\n",
       "      <td>900</td>\n",
       "    </tr>\n",
       "    <tr>\n",
       "      <th>2</th>\n",
       "      <td>182000</td>\n",
       "      <td>2</td>\n",
       "      <td>condo</td>\n",
       "      <td>7405</td>\n",
       "      <td>1945</td>\n",
       "      <td>1622</td>\n",
       "    </tr>\n",
       "    <tr>\n",
       "      <th>3</th>\n",
       "      <td>169900</td>\n",
       "      <td>1</td>\n",
       "      <td>single-family home</td>\n",
       "      <td>36155</td>\n",
       "      <td>1950</td>\n",
       "      <td>1556</td>\n",
       "    </tr>\n",
       "    <tr>\n",
       "      <th>4</th>\n",
       "      <td>148500</td>\n",
       "      <td>1</td>\n",
       "      <td>single-family home</td>\n",
       "      <td>9147</td>\n",
       "      <td>1959</td>\n",
       "      <td>1000</td>\n",
       "    </tr>\n",
       "    <tr>\n",
       "      <th>5</th>\n",
       "      <td>444900</td>\n",
       "      <td>6</td>\n",
       "      <td>single-family home</td>\n",
       "      <td>28314</td>\n",
       "      <td>1961</td>\n",
       "      <td>5201</td>\n",
       "    </tr>\n",
       "    <tr>\n",
       "      <th>6</th>\n",
       "      <td>178000</td>\n",
       "      <td>2</td>\n",
       "      <td>single-family home</td>\n",
       "      <td>11326</td>\n",
       "      <td>1964</td>\n",
       "      <td>1188</td>\n",
       "    </tr>\n",
       "    <tr>\n",
       "      <th>7</th>\n",
       "      <td>209000</td>\n",
       "      <td>2</td>\n",
       "      <td>single-family home</td>\n",
       "      <td>9147</td>\n",
       "      <td>1966</td>\n",
       "      <td>1918</td>\n",
       "    </tr>\n",
       "    <tr>\n",
       "      <th>8</th>\n",
       "      <td>349900</td>\n",
       "      <td>2</td>\n",
       "      <td>single-family home</td>\n",
       "      <td>204732</td>\n",
       "      <td>1967</td>\n",
       "      <td>3850</td>\n",
       "    </tr>\n",
       "    <tr>\n",
       "      <th>9</th>\n",
       "      <td>1100000</td>\n",
       "      <td>2</td>\n",
       "      <td>single-family home</td>\n",
       "      <td>4356000</td>\n",
       "      <td>1970</td>\n",
       "      <td>2541</td>\n",
       "    </tr>\n",
       "    <tr>\n",
       "      <th>10</th>\n",
       "      <td>239000</td>\n",
       "      <td>3</td>\n",
       "      <td>single-family home</td>\n",
       "      <td>12197</td>\n",
       "      <td>1972</td>\n",
       "      <td>2210</td>\n",
       "    </tr>\n",
       "    <tr>\n",
       "      <th>11</th>\n",
       "      <td>149900</td>\n",
       "      <td>2</td>\n",
       "      <td>single-family home</td>\n",
       "      <td>8712</td>\n",
       "      <td>1975</td>\n",
       "      <td>1810</td>\n",
       "    </tr>\n",
       "    <tr>\n",
       "      <th>12</th>\n",
       "      <td>294900</td>\n",
       "      <td>2</td>\n",
       "      <td>single-family home</td>\n",
       "      <td>30928</td>\n",
       "      <td>1978</td>\n",
       "      <td>3150</td>\n",
       "    </tr>\n",
       "    <tr>\n",
       "      <th>13</th>\n",
       "      <td>625000</td>\n",
       "      <td>6</td>\n",
       "      <td>single-family home</td>\n",
       "      <td>14810</td>\n",
       "      <td>1985</td>\n",
       "      <td>5299</td>\n",
       "    </tr>\n",
       "    <tr>\n",
       "      <th>14</th>\n",
       "      <td>309900</td>\n",
       "      <td>3</td>\n",
       "      <td>single-family home</td>\n",
       "      <td>15246</td>\n",
       "      <td>1986</td>\n",
       "      <td>2136</td>\n",
       "    </tr>\n",
       "    <tr>\n",
       "      <th>15</th>\n",
       "      <td>179900</td>\n",
       "      <td>2</td>\n",
       "      <td>single-family home</td>\n",
       "      <td>13068</td>\n",
       "      <td>1988</td>\n",
       "      <td>1237</td>\n",
       "    </tr>\n",
       "    <tr>\n",
       "      <th>16</th>\n",
       "      <td>339900</td>\n",
       "      <td>3</td>\n",
       "      <td>single-family home</td>\n",
       "      <td>14375</td>\n",
       "      <td>1993</td>\n",
       "      <td>2003</td>\n",
       "    </tr>\n",
       "    <tr>\n",
       "      <th>17</th>\n",
       "      <td>134900</td>\n",
       "      <td>2</td>\n",
       "      <td>townhouse</td>\n",
       "      <td>2300</td>\n",
       "      <td>1994</td>\n",
       "      <td>920</td>\n",
       "    </tr>\n",
       "    <tr>\n",
       "      <th>18</th>\n",
       "      <td>359000</td>\n",
       "      <td>4</td>\n",
       "      <td>single-family home</td>\n",
       "      <td>10130</td>\n",
       "      <td>1997</td>\n",
       "      <td>2903</td>\n",
       "    </tr>\n",
       "    <tr>\n",
       "      <th>19</th>\n",
       "      <td>529900</td>\n",
       "      <td>5</td>\n",
       "      <td>single-family home</td>\n",
       "      <td>19166</td>\n",
       "      <td>1998</td>\n",
       "      <td>5202</td>\n",
       "    </tr>\n",
       "    <tr>\n",
       "      <th>20</th>\n",
       "      <td>149900</td>\n",
       "      <td>3</td>\n",
       "      <td>townhouse</td>\n",
       "      <td>2291</td>\n",
       "      <td>1999</td>\n",
       "      <td>1440</td>\n",
       "    </tr>\n",
       "    <tr>\n",
       "      <th>21</th>\n",
       "      <td>394000</td>\n",
       "      <td>2</td>\n",
       "      <td>single-family home</td>\n",
       "      <td>18295</td>\n",
       "      <td>2001</td>\n",
       "      <td>2616</td>\n",
       "    </tr>\n",
       "    <tr>\n",
       "      <th>22</th>\n",
       "      <td>229900</td>\n",
       "      <td>2</td>\n",
       "      <td>single-family home</td>\n",
       "      <td>10018</td>\n",
       "      <td>2002</td>\n",
       "      <td>1541</td>\n",
       "    </tr>\n",
       "    <tr>\n",
       "      <th>23</th>\n",
       "      <td>439000</td>\n",
       "      <td>4</td>\n",
       "      <td>single-family home</td>\n",
       "      <td>18731</td>\n",
       "      <td>2005</td>\n",
       "      <td>3819</td>\n",
       "    </tr>\n",
       "    <tr>\n",
       "      <th>24</th>\n",
       "      <td>146900</td>\n",
       "      <td>3</td>\n",
       "      <td>condo</td>\n",
       "      <td>2178</td>\n",
       "      <td>2006</td>\n",
       "      <td>1276</td>\n",
       "    </tr>\n",
       "    <tr>\n",
       "      <th>25</th>\n",
       "      <td>174900</td>\n",
       "      <td>3</td>\n",
       "      <td>single-family home</td>\n",
       "      <td>2469</td>\n",
       "      <td>2007</td>\n",
       "      <td>1344</td>\n",
       "    </tr>\n",
       "    <tr>\n",
       "      <th>26</th>\n",
       "      <td>445000</td>\n",
       "      <td>4</td>\n",
       "      <td>single-family home</td>\n",
       "      <td>21780</td>\n",
       "      <td>2010</td>\n",
       "      <td>3504</td>\n",
       "    </tr>\n",
       "    <tr>\n",
       "      <th>27</th>\n",
       "      <td>659000</td>\n",
       "      <td>4</td>\n",
       "      <td>single-family home</td>\n",
       "      <td>21780</td>\n",
       "      <td>2014</td>\n",
       "      <td>5156</td>\n",
       "    </tr>\n",
       "    <tr>\n",
       "      <th>28</th>\n",
       "      <td>429000</td>\n",
       "      <td>5</td>\n",
       "      <td>single-family home</td>\n",
       "      <td>7405</td>\n",
       "      <td>2017</td>\n",
       "      <td>2799</td>\n",
       "    </tr>\n",
       "    <tr>\n",
       "      <th>29</th>\n",
       "      <td>429000</td>\n",
       "      <td>4</td>\n",
       "      <td>single-family home</td>\n",
       "      <td>22651</td>\n",
       "      <td>2018</td>\n",
       "      <td>3145</td>\n",
       "    </tr>\n",
       "  </tbody>\n",
       "</table>\n",
       "</div>"
      ],
      "text/plain": [
       "      price  bathroom           house_type  lot_size  built_in  area\n",
       "0    159900         1   single-family home      5662      1924  1584\n",
       "1   1100000         1   single-family home   4138200      1932   900\n",
       "2    182000         2                condo      7405      1945  1622\n",
       "3    169900         1   single-family home     36155      1950  1556\n",
       "4    148500         1   single-family home      9147      1959  1000\n",
       "5    444900         6   single-family home     28314      1961  5201\n",
       "6    178000         2   single-family home     11326      1964  1188\n",
       "7    209000         2   single-family home      9147      1966  1918\n",
       "8    349900         2   single-family home    204732      1967  3850\n",
       "9   1100000         2   single-family home   4356000      1970  2541\n",
       "10   239000         3   single-family home     12197      1972  2210\n",
       "11   149900         2   single-family home      8712      1975  1810\n",
       "12   294900         2   single-family home     30928      1978  3150\n",
       "13   625000         6   single-family home     14810      1985  5299\n",
       "14   309900         3   single-family home     15246      1986  2136\n",
       "15   179900         2   single-family home     13068      1988  1237\n",
       "16   339900         3   single-family home     14375      1993  2003\n",
       "17   134900         2            townhouse      2300      1994   920\n",
       "18   359000         4   single-family home     10130      1997  2903\n",
       "19   529900         5   single-family home     19166      1998  5202\n",
       "20   149900         3            townhouse      2291      1999  1440\n",
       "21   394000         2   single-family home     18295      2001  2616\n",
       "22   229900         2   single-family home     10018      2002  1541\n",
       "23   439000         4   single-family home     18731      2005  3819\n",
       "24   146900         3                condo      2178      2006  1276\n",
       "25   174900         3   single-family home      2469      2007  1344\n",
       "26   445000         4   single-family home     21780      2010  3504\n",
       "27   659000         4   single-family home     21780      2014  5156\n",
       "28   429000         5   single-family home      7405      2017  2799\n",
       "29   429000         4   single-family home     22651      2018  3145"
      ]
     },
     "execution_count": 4,
     "metadata": {},
     "output_type": "execute_result"
    }
   ],
   "source": [
    "df = pandas.read_excel('s3://mays-ia241/house_price.xls')\n",
    "\n",
    "df"
   ]
  },
  {
   "cell_type": "code",
   "execution_count": 5,
   "metadata": {},
   "outputs": [],
   "source": [
    "df['unit_price']=df['price']/df['area']"
   ]
  },
  {
   "cell_type": "code",
   "execution_count": 6,
   "metadata": {},
   "outputs": [],
   "source": [
    "df['year']=pandas.to_datetime(df['built_in'],format='%Y')"
   ]
  },
  {
   "cell_type": "code",
   "execution_count": 7,
   "metadata": {},
   "outputs": [
    {
     "data": {
      "text/plain": [
       "year\n",
       "1924-01-01     159900\n",
       "1932-01-01    1100000\n",
       "1945-01-01     182000\n",
       "1950-01-01     169900\n",
       "1959-01-01     148500\n",
       "1961-01-01     444900\n",
       "1964-01-01     178000\n",
       "1966-01-01     209000\n",
       "1967-01-01     349900\n",
       "1970-01-01    1100000\n",
       "1972-01-01     239000\n",
       "1975-01-01     149900\n",
       "1978-01-01     294900\n",
       "1985-01-01     625000\n",
       "1986-01-01     309900\n",
       "1988-01-01     179900\n",
       "1993-01-01     339900\n",
       "1994-01-01     134900\n",
       "1997-01-01     359000\n",
       "1998-01-01     529900\n",
       "1999-01-01     149900\n",
       "2001-01-01     394000\n",
       "2002-01-01     229900\n",
       "2005-01-01     439000\n",
       "2006-01-01     146900\n",
       "2007-01-01     174900\n",
       "2010-01-01     445000\n",
       "2014-01-01     659000\n",
       "2017-01-01     429000\n",
       "2018-01-01     429000\n",
       "Name: price, dtype: int64"
      ]
     },
     "execution_count": 7,
     "metadata": {},
     "output_type": "execute_result"
    }
   ],
   "source": [
    "avg_price_per_year = df.groupby('year').mean()['price']\n",
    "\n",
    "avg_price_per_year"
   ]
  },
  {
   "cell_type": "code",
   "execution_count": 8,
   "metadata": {},
   "outputs": [
    {
     "data": {
      "text/plain": [
       "<matplotlib.axes._subplots.AxesSubplot at 0x7f06779647f0>"
      ]
     },
     "execution_count": 8,
     "metadata": {},
     "output_type": "execute_result"
    },
    {
     "data": {
      "image/png": "[encoded data removed]",
      "text/plain": [
       "<Figure size 432x288 with 1 Axes>"
      ]
     },
     "metadata": {},
     "output_type": "display_data"
    }
   ],
   "source": [
    "avg_price_per_year.plot()"
   ]
  },
  {
   "cell_type": "code",
   "execution_count": 9,
   "metadata": {},
   "outputs": [
    {
     "data": {
      "text/plain": [
       "<matplotlib.axes._subplots.AxesSubplot at 0x7f067309ceb8>"
      ]
     },
     "execution_count": 9,
     "metadata": {},
     "output_type": "execute_result"
    },
    {
     "data": {
      "image/png": "[encoded data removed]",
      "text/plain": [
       "<Figure size 432x288 with 1 Axes>"
      ]
     },
     "metadata": {},
     "output_type": "display_data"
    }
   ],
   "source": [
    "avg_unit_price_per_year = df.groupby('year').mean()['unit_price']\n",
    "\n",
    "avg_unit_price_per_year.plot()"
   ]
  },
  {
   "cell_type": "code",
   "execution_count": 10,
   "metadata": {},
   "outputs": [
    {
     "data": {
      "text/plain": [
       "<matplotlib.axes._subplots.AxesSubplot at 0x7f0673083da0>"
      ]
     },
     "execution_count": 10,
     "metadata": {},
     "output_type": "execute_result"
    },
    {
     "data": {
      "image/png": "[encoded data removed]",
      "text/plain": [
       "<Figure size 432x288 with 1 Axes>"
      ]
     },
     "metadata": {},
     "output_type": "display_data"
    }
   ],
   "source": [
    "df['price'].hist()"
   ]
  },
  {
   "cell_type": "code",
   "execution_count": 11,
   "metadata": {},
   "outputs": [
    {
     "data": {
      "text/plain": [
       "<matplotlib.axes._subplots.AxesSubplot at 0x7f0672fd8e10>"
      ]
     },
     "execution_count": 11,
     "metadata": {},
     "output_type": "execute_result"
    },
    {
     "data": {
      "image/png": "[encoded data removed]",
      "text/plain": [
       "<Figure size 432x288 with 1 Axes>"
      ]
     },
     "metadata": {},
     "output_type": "display_data"
    }
   ],
   "source": [
    "df['unit_price'].hist()"
   ]
  },
  {
   "cell_type": "code",
   "execution_count": 12,
   "metadata": {},
   "outputs": [
    {
     "data": {
      "text/plain": [
       "house_type\n",
       " condo                 164450.000000\n",
       " single-family home    387973.076923\n",
       " townhouse             142400.000000\n",
       "Name: price, dtype: float64"
      ]
     },
     "execution_count": 12,
     "metadata": {},
     "output_type": "execute_result"
    }
   ],
   "source": [
    "avg_price_per_type=df.groupby('house_type').mean()['price']\n",
    "\n",
    "avg_price_per_type"
   ]
  },
  {
   "cell_type": "code",
   "execution_count": 13,
   "metadata": {},
   "outputs": [
    {
     "data": {
      "text/plain": [
       "<matplotlib.axes._subplots.AxesSubplot at 0x7f0672f710f0>"
      ]
     },
     "execution_count": 13,
     "metadata": {},
     "output_type": "execute_result"
    },
    {
     "data": {
      "image/png": "[encoded data removed]",
      "text/plain": [
       "<Figure size 432x288 with 1 Axes>"
      ]
     },
     "metadata": {},
     "output_type": "display_data"
    }
   ],
   "source": [
    "avg_price_per_type.plot.bar()"
   ]
  },
  {
   "cell_type": "code",
   "execution_count": 14,
   "metadata": {},
   "outputs": [
    {
     "data": {
      "text/plain": [
       "house_type\n",
       " condo                 113.666272\n",
       " single-family home    177.947148\n",
       " townhouse             125.363829\n",
       "Name: unit_price, dtype: float64"
      ]
     },
     "execution_count": 14,
     "metadata": {},
     "output_type": "execute_result"
    }
   ],
   "source": [
    "avg_unit_price_per_type = df.groupby('house_type').mean()['unit_price']\n",
    "\n",
    "avg_unit_price_per_type"
   ]
  },
  {
   "cell_type": "code",
   "execution_count": 15,
   "metadata": {},
   "outputs": [
    {
     "data": {
      "text/plain": [
       "<matplotlib.axes._subplots.AxesSubplot at 0x7f0672f3d668>"
      ]
     },
     "execution_count": 15,
     "metadata": {},
     "output_type": "execute_result"
    },
    {
     "data": {
      "image/png": "[encoded data removed]",
      "text/plain": [
       "<Figure size 432x288 with 1 Axes>"
      ]
     },
     "metadata": {},
     "output_type": "display_data"
    }
   ],
   "source": [
    "avg_unit_price_per_type.plot.bar()"
   ]
  },
  {
   "cell_type": "markdown",
   "metadata": {},
   "source": [
    "most expensive house is single family home"
   ]
  },
  {
   "cell_type": "code",
   "execution_count": 16,
   "metadata": {},
   "outputs": [
    {
     "data": {
      "text/plain": [
       "house_type\n",
       " condo                  2\n",
       " single-family home    26\n",
       " townhouse              2\n",
       "Name: year, dtype: int64"
      ]
     },
     "execution_count": 16,
     "metadata": {},
     "output_type": "execute_result"
    }
   ],
   "source": [
    "house_type_count = df.groupby('house_type').count()['year']\n",
    "\n",
    "house_type_count"
   ]
  },
  {
   "cell_type": "code",
   "execution_count": 17,
   "metadata": {},
   "outputs": [
    {
     "data": {
      "text/plain": [
       "<matplotlib.axes._subplots.AxesSubplot at 0x7f0672eacdd8>"
      ]
     },
     "execution_count": 17,
     "metadata": {},
     "output_type": "execute_result"
    },
    {
     "data": {
      "image/png": "[encoded data removed]",
      "text/plain": [
       "<Figure size 432x288 with 1 Axes>"
      ]
     },
     "metadata": {},
     "output_type": "display_data"
    }
   ],
   "source": [
    "house_type_count.plot.pie()"
   ]
  },
  {
   "cell_type": "markdown",
   "metadata": {},
   "source": [
    "most are single family homes in harrisonburg"
   ]
  },
  {
   "cell_type": "code",
   "execution_count": 18,
   "metadata": {},
   "outputs": [
    {
     "data": {
      "text/plain": [
       "<matplotlib.axes._subplots.AxesSubplot at 0x7f0672e753c8>"
      ]
     },
     "execution_count": 18,
     "metadata": {},
     "output_type": "execute_result"
    },
    {
     "data": {
      "image/png": "[encoded data removed]",
      "text/plain": [
       "<Figure size 432x288 with 1 Axes>"
      ]
     },
     "metadata": {},
     "output_type": "display_data"
    }
   ],
   "source": [
    "df.plot.scatter(x='price',y='area')"
   ]
  },
  {
   "cell_type": "code",
   "execution_count": null,
   "metadata": {},
   "outputs": [],
   "source": []
  }
 ],
 "metadata": {
  "kernelspec": {
   "display_name": "conda_python3",
   "language": "python",
   "name": "conda_python3"
  },
  "language_info": {
   "codemirror_mode": {
    "name": "ipython",
    "version": 3
   },
   "file_extension": ".py",
   "mimetype": "text/x-python",
   "name": "python",
   "nbconvert_exporter": "python",
   "pygments_lexer": "ipython3",
   "version": "3.6.5"
  }
 },
 "nbformat": 4,
 "nbformat_minor": 4
}
