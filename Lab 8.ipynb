{
 "cells": [
  {
   "cell_type": "code",
   "execution_count": 2,
   "metadata": {},
   "outputs": [],
   "source": [
    "import pandas"
   ]
  },
  {
   "cell_type": "code",
   "execution_count": 6,
   "metadata": {},
   "outputs": [
    {
     "data": {
      "text/html": [
       "<div>\n",
       "<style scoped>\n",
       "    .dataframe tbody tr th:only-of-type {\n",
       "        vertical-align: middle;\n",
       "    }\n",
       "\n",
       "    .dataframe tbody tr th {\n",
       "        vertical-align: top;\n",
       "    }\n",
       "\n",
       "    .dataframe thead th {\n",
       "        text-align: right;\n",
       "    }\n",
       "</style>\n",
       "<table border=\"1\" class=\"dataframe\">\n",
       "  <thead>\n",
       "    <tr style=\"text-align: right;\">\n",
       "      <th></th>\n",
       "      <th>price</th>\n",
       "      <th>bathroom</th>\n",
       "      <th>house_type</th>\n",
       "      <th>lot_size</th>\n",
       "      <th>built_in</th>\n",
       "      <th>area</th>\n",
       "    </tr>\n",
       "  </thead>\n",
       "  <tbody>\n",
       "    <tr>\n",
       "      <th>0</th>\n",
       "      <td>159900</td>\n",
       "      <td>1</td>\n",
       "      <td>single-family home</td>\n",
       "      <td>5662</td>\n",
       "      <td>1924</td>\n",
       "      <td>1584</td>\n",
       "    </tr>\n",
       "    <tr>\n",
       "      <th>1</th>\n",
       "      <td>1100000</td>\n",
       "      <td>1</td>\n",
       "      <td>single-family home</td>\n",
       "      <td>4138200</td>\n",
       "      <td>1932</td>\n",
       "      <td>900</td>\n",
       "    </tr>\n",
       "    <tr>\n",
       "      <th>2</th>\n",
       "      <td>182000</td>\n",
       "      <td>2</td>\n",
       "      <td>condo</td>\n",
       "      <td>7405</td>\n",
       "      <td>1945</td>\n",
       "      <td>1622</td>\n",
       "    </tr>\n",
       "    <tr>\n",
       "      <th>3</th>\n",
       "      <td>169900</td>\n",
       "      <td>1</td>\n",
       "      <td>single-family home</td>\n",
       "      <td>36155</td>\n",
       "      <td>1950</td>\n",
       "      <td>1556</td>\n",
       "    </tr>\n",
       "    <tr>\n",
       "      <th>4</th>\n",
       "      <td>148500</td>\n",
       "      <td>1</td>\n",
       "      <td>single-family home</td>\n",
       "      <td>9147</td>\n",
       "      <td>1959</td>\n",
       "      <td>1000</td>\n",
       "    </tr>\n",
       "    <tr>\n",
       "      <th>5</th>\n",
       "      <td>444900</td>\n",
       "      <td>6</td>\n",
       "      <td>single-family home</td>\n",
       "      <td>28314</td>\n",
       "      <td>1961</td>\n",
       "      <td>5201</td>\n",
       "    </tr>\n",
       "    <tr>\n",
       "      <th>6</th>\n",
       "      <td>178000</td>\n",
       "      <td>2</td>\n",
       "      <td>single-family home</td>\n",
       "      <td>11326</td>\n",
       "      <td>1964</td>\n",
       "      <td>1188</td>\n",
       "    </tr>\n",
       "    <tr>\n",
       "      <th>7</th>\n",
       "      <td>209000</td>\n",
       "      <td>2</td>\n",
       "      <td>single-family home</td>\n",
       "      <td>9147</td>\n",
       "      <td>1966</td>\n",
       "      <td>1918</td>\n",
       "    </tr>\n",
       "    <tr>\n",
       "      <th>8</th>\n",
       "      <td>349900</td>\n",
       "      <td>2</td>\n",
       "      <td>single-family home</td>\n",
       "      <td>204732</td>\n",
       "      <td>1967</td>\n",
       "      <td>3850</td>\n",
       "    </tr>\n",
       "    <tr>\n",
       "      <th>9</th>\n",
       "      <td>1100000</td>\n",
       "      <td>2</td>\n",
       "      <td>single-family home</td>\n",
       "      <td>4356000</td>\n",
       "      <td>1970</td>\n",
       "      <td>2541</td>\n",
       "    </tr>\n",
       "    <tr>\n",
       "      <th>10</th>\n",
       "      <td>239000</td>\n",
       "      <td>3</td>\n",
       "      <td>single-family home</td>\n",
       "      <td>12197</td>\n",
       "      <td>1972</td>\n",
       "      <td>2210</td>\n",
       "    </tr>\n",
       "    <tr>\n",
       "      <th>11</th>\n",
       "      <td>149900</td>\n",
       "      <td>2</td>\n",
       "      <td>single-family home</td>\n",
       "      <td>8712</td>\n",
       "      <td>1975</td>\n",
       "      <td>1810</td>\n",
       "    </tr>\n",
       "    <tr>\n",
       "      <th>12</th>\n",
       "      <td>294900</td>\n",
       "      <td>2</td>\n",
       "      <td>single-family home</td>\n",
       "      <td>30928</td>\n",
       "      <td>1978</td>\n",
       "      <td>3150</td>\n",
       "    </tr>\n",
       "    <tr>\n",
       "      <th>13</th>\n",
       "      <td>625000</td>\n",
       "      <td>6</td>\n",
       "      <td>single-family home</td>\n",
       "      <td>14810</td>\n",
       "      <td>1985</td>\n",
       "      <td>5299</td>\n",
       "    </tr>\n",
       "    <tr>\n",
       "      <th>14</th>\n",
       "      <td>309900</td>\n",
       "      <td>3</td>\n",
       "      <td>single-family home</td>\n",
       "      <td>15246</td>\n",
       "      <td>1986</td>\n",
       "      <td>2136</td>\n",
       "    </tr>\n",
       "    <tr>\n",
       "      <th>15</th>\n",
       "      <td>179900</td>\n",
       "      <td>2</td>\n",
       "      <td>single-family home</td>\n",
       "      <td>13068</td>\n",
       "      <td>1988</td>\n",
       "      <td>1237</td>\n",
       "    </tr>\n",
       "    <tr>\n",
       "      <th>16</th>\n",
       "      <td>339900</td>\n",
       "      <td>3</td>\n",
       "      <td>single-family home</td>\n",
       "      <td>14375</td>\n",
       "      <td>1993</td>\n",
       "      <td>2003</td>\n",
       "    </tr>\n",
       "    <tr>\n",
       "      <th>17</th>\n",
       "      <td>134900</td>\n",
       "      <td>2</td>\n",
       "      <td>townhouse</td>\n",
       "      <td>2300</td>\n",
       "      <td>1994</td>\n",
       "      <td>920</td>\n",
       "    </tr>\n",
       "    <tr>\n",
       "      <th>18</th>\n",
       "      <td>359000</td>\n",
       "      <td>4</td>\n",
       "      <td>single-family home</td>\n",
       "      <td>10130</td>\n",
       "      <td>1997</td>\n",
       "      <td>2903</td>\n",
       "    </tr>\n",
       "    <tr>\n",
       "      <th>19</th>\n",
       "      <td>529900</td>\n",
       "      <td>5</td>\n",
       "      <td>single-family home</td>\n",
       "      <td>19166</td>\n",
       "      <td>1998</td>\n",
       "      <td>5202</td>\n",
       "    </tr>\n",
       "    <tr>\n",
       "      <th>20</th>\n",
       "      <td>149900</td>\n",
       "      <td>3</td>\n",
       "      <td>townhouse</td>\n",
       "      <td>2291</td>\n",
       "      <td>1999</td>\n",
       "      <td>1440</td>\n",
       "    </tr>\n",
       "    <tr>\n",
       "      <th>21</th>\n",
       "      <td>394000</td>\n",
       "      <td>2</td>\n",
       "      <td>single-family home</td>\n",
       "      <td>18295</td>\n",
       "      <td>2001</td>\n",
       "      <td>2616</td>\n",
       "    </tr>\n",
       "    <tr>\n",
       "      <th>22</th>\n",
       "      <td>229900</td>\n",
       "      <td>2</td>\n",
       "      <td>single-family home</td>\n",
       "      <td>10018</td>\n",
       "      <td>2002</td>\n",
       "      <td>1541</td>\n",
       "    </tr>\n",
       "    <tr>\n",
       "      <th>23</th>\n",
       "      <td>439000</td>\n",
       "      <td>4</td>\n",
       "      <td>single-family home</td>\n",
       "      <td>18731</td>\n",
       "      <td>2005</td>\n",
       "      <td>3819</td>\n",
       "    </tr>\n",
       "    <tr>\n",
       "      <th>24</th>\n",
       "      <td>146900</td>\n",
       "      <td>3</td>\n",
       "      <td>condo</td>\n",
       "      <td>2178</td>\n",
       "      <td>2006</td>\n",
       "      <td>1276</td>\n",
       "    </tr>\n",
       "    <tr>\n",
       "      <th>25</th>\n",
       "      <td>174900</td>\n",
       "      <td>3</td>\n",
       "      <td>single-family home</td>\n",
       "      <td>2469</td>\n",
       "      <td>2007</td>\n",
       "      <td>1344</td>\n",
       "    </tr>\n",
       "    <tr>\n",
       "      <th>26</th>\n",
       "      <td>445000</td>\n",
       "      <td>4</td>\n",
       "      <td>single-family home</td>\n",
       "      <td>21780</td>\n",
       "      <td>2010</td>\n",
       "      <td>3504</td>\n",
       "    </tr>\n",
       "    <tr>\n",
       "      <th>27</th>\n",
       "      <td>659000</td>\n",
       "      <td>4</td>\n",
       "      <td>single-family home</td>\n",
       "      <td>21780</td>\n",
       "      <td>2014</td>\n",
       "      <td>5156</td>\n",
       "    </tr>\n",
       "    <tr>\n",
       "      <th>28</th>\n",
       "      <td>429000</td>\n",
       "      <td>5</td>\n",
       "      <td>single-family home</td>\n",
       "      <td>7405</td>\n",
       "      <td>2017</td>\n",
       "      <td>2799</td>\n",
       "    </tr>\n",
       "    <tr>\n",
       "      <th>29</th>\n",
       "      <td>429000</td>\n",
       "      <td>4</td>\n",
       "      <td>single-family home</td>\n",
       "      <td>22651</td>\n",
       "      <td>2018</td>\n",
       "      <td>3145</td>\n",
       "    </tr>\n",
       "  </tbody>\n",
       "</table>\n",
       "</div>"
      ],
      "text/plain": [
       "      price  bathroom           house_type  lot_size  built_in  area\n",
       "0    159900         1   single-family home      5662      1924  1584\n",
       "1   1100000         1   single-family home   4138200      1932   900\n",
       "2    182000         2                condo      7405      1945  1622\n",
       "3    169900         1   single-family home     36155      1950  1556\n",
       "4    148500         1   single-family home      9147      1959  1000\n",
       "5    444900         6   single-family home     28314      1961  5201\n",
       "6    178000         2   single-family home     11326      1964  1188\n",
       "7    209000         2   single-family home      9147      1966  1918\n",
       "8    349900         2   single-family home    204732      1967  3850\n",
       "9   1100000         2   single-family home   4356000      1970  2541\n",
       "10   239000         3   single-family home     12197      1972  2210\n",
       "11   149900         2   single-family home      8712      1975  1810\n",
       "12   294900         2   single-family home     30928      1978  3150\n",
       "13   625000         6   single-family home     14810      1985  5299\n",
       "14   309900         3   single-family home     15246      1986  2136\n",
       "15   179900         2   single-family home     13068      1988  1237\n",
       "16   339900         3   single-family home     14375      1993  2003\n",
       "17   134900         2            townhouse      2300      1994   920\n",
       "18   359000         4   single-family home     10130      1997  2903\n",
       "19   529900         5   single-family home     19166      1998  5202\n",
       "20   149900         3            townhouse      2291      1999  1440\n",
       "21   394000         2   single-family home     18295      2001  2616\n",
       "22   229900         2   single-family home     10018      2002  1541\n",
       "23   439000         4   single-family home     18731      2005  3819\n",
       "24   146900         3                condo      2178      2006  1276\n",
       "25   174900         3   single-family home      2469      2007  1344\n",
       "26   445000         4   single-family home     21780      2010  3504\n",
       "27   659000         4   single-family home     21780      2014  5156\n",
       "28   429000         5   single-family home      7405      2017  2799\n",
       "29   429000         4   single-family home     22651      2018  3145"
      ]
     },
     "execution_count": 6,
     "metadata": {},
     "output_type": "execute_result"
    }
   ],
   "source": [
    "df = pandas.read_excel('s3://mays-ia241/house_price.xls')\n",
    "\n",
    "df"
   ]
  },
  {
   "cell_type": "code",
   "execution_count": 7,
   "metadata": {},
   "outputs": [],
   "source": [
    "df['unit_price']= df['price']/df['area']"
   ]
  },
  {
   "cell_type": "code",
   "execution_count": 8,
   "metadata": {},
   "outputs": [],
   "source": [
    "import numpy as np"
   ]
  },
  {
   "cell_type": "code",
   "execution_count": 9,
   "metadata": {},
   "outputs": [
    {
     "name": "stdout",
     "output_type": "stream",
     "text": [
      "the max unit price is $1222.2222222222222\n"
     ]
    }
   ],
   "source": [
    "print('the max unit price is ${}'.format(np.amax(df['unit_price'])))"
   ]
  },
  {
   "cell_type": "code",
   "execution_count": 10,
   "metadata": {},
   "outputs": [
    {
     "name": "stdout",
     "output_type": "stream",
     "text": [
      "the median unit price is $125.33144542647584\n"
     ]
    }
   ],
   "source": [
    "print('the median unit price is ${}'.format(np.median(df['unit_price'])))"
   ]
  },
  {
   "cell_type": "code",
   "execution_count": 11,
   "metadata": {},
   "outputs": [
    {
     "data": {
      "text/plain": [
       "house_type\n",
       " condo                 113.666272\n",
       " single-family home    177.947148\n",
       " townhouse             125.363829\n",
       "Name: unit_price, dtype: float64"
      ]
     },
     "execution_count": 11,
     "metadata": {},
     "output_type": "execute_result"
    }
   ],
   "source": [
    "df.groupby('house_type').mean()['unit_price']"
   ]
  },
  {
   "cell_type": "code",
   "execution_count": 12,
   "metadata": {},
   "outputs": [],
   "source": [
    "from scipy import stats"
   ]
  },
  {
   "cell_type": "code",
   "execution_count": 13,
   "metadata": {},
   "outputs": [],
   "source": [
    "result = stats.linregress(df['area'],df['price'])"
   ]
  },
  {
   "cell_type": "code",
   "execution_count": 14,
   "metadata": {},
   "outputs": [
    {
     "name": "stdout",
     "output_type": "stream",
     "text": [
      "slope is 74.37646603912873\n"
     ]
    }
   ],
   "source": [
    "print('slope is {}'.format(result.slope))"
   ]
  },
  {
   "cell_type": "code",
   "execution_count": 15,
   "metadata": {},
   "outputs": [
    {
     "name": "stdout",
     "output_type": "stream",
     "text": [
      "intercept is 171081.13292168107\n"
     ]
    }
   ],
   "source": [
    "print('intercept is {}'.format(result.intercept))"
   ]
  },
  {
   "cell_type": "code",
   "execution_count": 16,
   "metadata": {},
   "outputs": [
    {
     "name": "stdout",
     "output_type": "stream",
     "text": [
      "R square is 0.1660981507478648\n"
     ]
    }
   ],
   "source": [
    "print('R square is {}'.format(result.rvalue * result.rvalue))"
   ]
  },
  {
   "cell_type": "code",
   "execution_count": 17,
   "metadata": {},
   "outputs": [
    {
     "name": "stdout",
     "output_type": "stream",
     "text": [
      "p value is 0.025387094399552994\n"
     ]
    }
   ],
   "source": [
    "print ('p value is {}'.format(result.pvalue))"
   ]
  },
  {
   "cell_type": "code",
   "execution_count": 18,
   "metadata": {},
   "outputs": [
    {
     "name": "stdout",
     "output_type": "stream",
     "text": [
      "the price of a house with 2,000 sqft is $319834.06499993854\n"
     ]
    }
   ],
   "source": [
    "print('the price of a house with 2,000 sqft is ${}'.format(2000*result.slope+result.intercept))"
   ]
  },
  {
   "cell_type": "code",
   "execution_count": null,
   "metadata": {},
   "outputs": [],
   "source": []
  }
 ],
 "metadata": {
  "kernelspec": {
   "display_name": "conda_python3",
   "language": "python",
   "name": "conda_python3"
  },
  "language_info": {
   "codemirror_mode": {
    "name": "ipython",
    "version": 3
   },
   "file_extension": ".py",
   "mimetype": "text/x-python",
   "name": "python",
   "nbconvert_exporter": "python",
   "pygments_lexer": "ipython3",
   "version": "3.6.5"
  }
 },
 "nbformat": 4,
 "nbformat_minor": 4
}
