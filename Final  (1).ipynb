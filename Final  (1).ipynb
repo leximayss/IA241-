{
 "cells": [
  {
   "cell_type": "markdown",
   "metadata": {},
   "source": [
    "\n",
    "## Analyzing Global COVID-19 Data in Python"
   ]
  },
  {
   "cell_type": "markdown",
   "metadata": {},
   "source": [
    "### Data Source: \n"
   ]
  },
  {
   "cell_type": "markdown",
   "metadata": {},
   "source": [
    "The data is downloaded from European Centre for Disease Prevention and Control."
   ]
  },
  {
   "cell_type": "code",
   "execution_count": 1,
   "metadata": {},
   "outputs": [],
   "source": [
    "%matplotlib inline\n",
    "import pandas"
   ]
  },
  {
   "cell_type": "markdown",
   "metadata": {},
   "source": [
    "## Importing Data from S3"
   ]
  },
  {
   "cell_type": "code",
   "execution_count": 2,
   "metadata": {},
   "outputs": [
    {
     "data": {
      "text/html": [
       "<div>\n",
       "<style scoped>\n",
       "    .dataframe tbody tr th:only-of-type {\n",
       "        vertical-align: middle;\n",
       "    }\n",
       "\n",
       "    .dataframe tbody tr th {\n",
       "        vertical-align: top;\n",
       "    }\n",
       "\n",
       "    .dataframe thead th {\n",
       "        text-align: right;\n",
       "    }\n",
       "</style>\n",
       "<table border=\"1\" class=\"dataframe\">\n",
       "  <thead>\n",
       "    <tr style=\"text-align: right;\">\n",
       "      <th></th>\n",
       "      <th>dateRep</th>\n",
       "      <th>day</th>\n",
       "      <th>month</th>\n",
       "      <th>year</th>\n",
       "      <th>cases</th>\n",
       "      <th>deaths</th>\n",
       "      <th>countriesAndTerritories</th>\n",
       "      <th>geoId</th>\n",
       "      <th>countryterritoryCode</th>\n",
       "      <th>popData2018</th>\n",
       "    </tr>\n",
       "  </thead>\n",
       "  <tbody>\n",
       "    <tr>\n",
       "      <th>0</th>\n",
       "      <td>2020-04-10</td>\n",
       "      <td>10</td>\n",
       "      <td>4</td>\n",
       "      <td>2020</td>\n",
       "      <td>61</td>\n",
       "      <td>1</td>\n",
       "      <td>Afghanistan</td>\n",
       "      <td>AF</td>\n",
       "      <td>AFG</td>\n",
       "      <td>37172386.0</td>\n",
       "    </tr>\n",
       "    <tr>\n",
       "      <th>1</th>\n",
       "      <td>2020-04-09</td>\n",
       "      <td>9</td>\n",
       "      <td>4</td>\n",
       "      <td>2020</td>\n",
       "      <td>56</td>\n",
       "      <td>3</td>\n",
       "      <td>Afghanistan</td>\n",
       "      <td>AF</td>\n",
       "      <td>AFG</td>\n",
       "      <td>37172386.0</td>\n",
       "    </tr>\n",
       "    <tr>\n",
       "      <th>2</th>\n",
       "      <td>2020-04-08</td>\n",
       "      <td>8</td>\n",
       "      <td>4</td>\n",
       "      <td>2020</td>\n",
       "      <td>30</td>\n",
       "      <td>4</td>\n",
       "      <td>Afghanistan</td>\n",
       "      <td>AF</td>\n",
       "      <td>AFG</td>\n",
       "      <td>37172386.0</td>\n",
       "    </tr>\n",
       "    <tr>\n",
       "      <th>3</th>\n",
       "      <td>2020-04-07</td>\n",
       "      <td>7</td>\n",
       "      <td>4</td>\n",
       "      <td>2020</td>\n",
       "      <td>38</td>\n",
       "      <td>0</td>\n",
       "      <td>Afghanistan</td>\n",
       "      <td>AF</td>\n",
       "      <td>AFG</td>\n",
       "      <td>37172386.0</td>\n",
       "    </tr>\n",
       "    <tr>\n",
       "      <th>4</th>\n",
       "      <td>2020-04-06</td>\n",
       "      <td>6</td>\n",
       "      <td>4</td>\n",
       "      <td>2020</td>\n",
       "      <td>29</td>\n",
       "      <td>2</td>\n",
       "      <td>Afghanistan</td>\n",
       "      <td>AF</td>\n",
       "      <td>AFG</td>\n",
       "      <td>37172386.0</td>\n",
       "    </tr>\n",
       "    <tr>\n",
       "      <th>5</th>\n",
       "      <td>2020-04-05</td>\n",
       "      <td>5</td>\n",
       "      <td>4</td>\n",
       "      <td>2020</td>\n",
       "      <td>35</td>\n",
       "      <td>1</td>\n",
       "      <td>Afghanistan</td>\n",
       "      <td>AF</td>\n",
       "      <td>AFG</td>\n",
       "      <td>37172386.0</td>\n",
       "    </tr>\n",
       "    <tr>\n",
       "      <th>6</th>\n",
       "      <td>2020-04-04</td>\n",
       "      <td>4</td>\n",
       "      <td>4</td>\n",
       "      <td>2020</td>\n",
       "      <td>0</td>\n",
       "      <td>0</td>\n",
       "      <td>Afghanistan</td>\n",
       "      <td>AF</td>\n",
       "      <td>AFG</td>\n",
       "      <td>37172386.0</td>\n",
       "    </tr>\n",
       "    <tr>\n",
       "      <th>7</th>\n",
       "      <td>2020-04-03</td>\n",
       "      <td>3</td>\n",
       "      <td>4</td>\n",
       "      <td>2020</td>\n",
       "      <td>43</td>\n",
       "      <td>0</td>\n",
       "      <td>Afghanistan</td>\n",
       "      <td>AF</td>\n",
       "      <td>AFG</td>\n",
       "      <td>37172386.0</td>\n",
       "    </tr>\n",
       "    <tr>\n",
       "      <th>8</th>\n",
       "      <td>2020-04-02</td>\n",
       "      <td>2</td>\n",
       "      <td>4</td>\n",
       "      <td>2020</td>\n",
       "      <td>26</td>\n",
       "      <td>0</td>\n",
       "      <td>Afghanistan</td>\n",
       "      <td>AF</td>\n",
       "      <td>AFG</td>\n",
       "      <td>37172386.0</td>\n",
       "    </tr>\n",
       "    <tr>\n",
       "      <th>9</th>\n",
       "      <td>2020-04-01</td>\n",
       "      <td>1</td>\n",
       "      <td>4</td>\n",
       "      <td>2020</td>\n",
       "      <td>25</td>\n",
       "      <td>0</td>\n",
       "      <td>Afghanistan</td>\n",
       "      <td>AF</td>\n",
       "      <td>AFG</td>\n",
       "      <td>37172386.0</td>\n",
       "    </tr>\n",
       "  </tbody>\n",
       "</table>\n",
       "</div>"
      ],
      "text/plain": [
       "     dateRep  day  month  year  cases  deaths countriesAndTerritories geoId  \\\n",
       "0 2020-04-10   10      4  2020     61       1             Afghanistan    AF   \n",
       "1 2020-04-09    9      4  2020     56       3             Afghanistan    AF   \n",
       "2 2020-04-08    8      4  2020     30       4             Afghanistan    AF   \n",
       "3 2020-04-07    7      4  2020     38       0             Afghanistan    AF   \n",
       "4 2020-04-06    6      4  2020     29       2             Afghanistan    AF   \n",
       "5 2020-04-05    5      4  2020     35       1             Afghanistan    AF   \n",
       "6 2020-04-04    4      4  2020      0       0             Afghanistan    AF   \n",
       "7 2020-04-03    3      4  2020     43       0             Afghanistan    AF   \n",
       "8 2020-04-02    2      4  2020     26       0             Afghanistan    AF   \n",
       "9 2020-04-01    1      4  2020     25       0             Afghanistan    AF   \n",
       "\n",
       "  countryterritoryCode  popData2018  \n",
       "0                  AFG   37172386.0  \n",
       "1                  AFG   37172386.0  \n",
       "2                  AFG   37172386.0  \n",
       "3                  AFG   37172386.0  \n",
       "4                  AFG   37172386.0  \n",
       "5                  AFG   37172386.0  \n",
       "6                  AFG   37172386.0  \n",
       "7                  AFG   37172386.0  \n",
       "8                  AFG   37172386.0  \n",
       "9                  AFG   37172386.0  "
      ]
     },
     "execution_count": 2,
     "metadata": {},
     "output_type": "execute_result"
    }
   ],
   "source": [
    "df = pandas.read_excel('s3://mays-ia241/COVID-19-geographic-disbtribution-worldwide_April_10_2020.xlsx')\n",
    "df[:10] #the top 10 rows"
   ]
  },
  {
   "cell_type": "markdown",
   "metadata": {},
   "source": [
    "# Analysis"
   ]
  },
  {
   "cell_type": "markdown",
   "metadata": {},
   "source": [
    "## 1. Sum Of Deaths Per Day Globally "
   ]
  },
  {
   "cell_type": "code",
   "execution_count": 5,
   "metadata": {},
   "outputs": [
    {
     "data": {
      "text/plain": [
       "<matplotlib.axes._subplots.AxesSubplot at 0x7f7e8c55ac88>"
      ]
     },
     "execution_count": 5,
     "metadata": {},
     "output_type": "execute_result"
    },
    {
     "data": {
      "image/png": "[encoded data removed]",
      "text/plain": [
       "<Figure size 432x288 with 1 Axes>"
      ]
     },
     "metadata": {},
     "output_type": "display_data"
    }
   ],
   "source": [
    "sum_death_by_date = df.groupby('dateRep').sum()['deaths']\n",
    "\n",
    "sum_death_by_date.plot()"
   ]
  },
  {
   "cell_type": "markdown",
   "metadata": {},
   "source": [
    "This chart allows us to see that over the months, death rates have ultimatley risen. You can also see that from January to March, death rates were consitent until they sharply rose mid-March and into April. "
   ]
  },
  {
   "cell_type": "markdown",
   "metadata": {},
   "source": [
    "## 2. The Top 15 Countries with the Highest Amount of Cases "
   ]
  },
  {
   "cell_type": "code",
   "execution_count": 16,
   "metadata": {},
   "outputs": [
    {
     "data": {
      "text/plain": [
       "<matplotlib.axes._subplots.AxesSubplot at 0x7f7e87fabd68>"
      ]
     },
     "execution_count": 16,
     "metadata": {},
     "output_type": "execute_result"
    },
    {
     "data": {
      "image/png": "[encoded data removed]",
      "text/plain": [
       "<Figure size 432x288 with 1 Axes>"
      ]
     },
     "metadata": {},
     "output_type": "display_data"
    }
   ],
   "source": [
    "sum_cases_by_country = df.groupby('countriesAndTerritories').sum()['cases']\n",
    "\n",
    "sum_cases_by_country.nlargest(15).plot.pie()\n"
   ]
  },
  {
   "cell_type": "markdown",
   "metadata": {},
   "source": [
    "This Pie Chart represents the Top 15 coutries with the most COVIS-19 cases. It is clear that the USA has the most cases, followed by Spain and Italy. "
   ]
  },
  {
   "cell_type": "markdown",
   "metadata": {},
   "source": [
    "## 3. Looking at China's Data"
   ]
  },
  {
   "cell_type": "code",
   "execution_count": 11,
   "metadata": {},
   "outputs": [
    {
     "data": {
      "text/html": [
       "<div>\n",
       "<style scoped>\n",
       "    .dataframe tbody tr th:only-of-type {\n",
       "        vertical-align: middle;\n",
       "    }\n",
       "\n",
       "    .dataframe tbody tr th {\n",
       "        vertical-align: top;\n",
       "    }\n",
       "\n",
       "    .dataframe thead th {\n",
       "        text-align: right;\n",
       "    }\n",
       "</style>\n",
       "<table border=\"1\" class=\"dataframe\">\n",
       "  <thead>\n",
       "    <tr style=\"text-align: right;\">\n",
       "      <th></th>\n",
       "      <th>dateRep</th>\n",
       "      <th>day</th>\n",
       "      <th>month</th>\n",
       "      <th>year</th>\n",
       "      <th>cases</th>\n",
       "      <th>deaths</th>\n",
       "      <th>countriesAndTerritories</th>\n",
       "      <th>geoId</th>\n",
       "      <th>countryterritoryCode</th>\n",
       "      <th>popData2018</th>\n",
       "    </tr>\n",
       "  </thead>\n",
       "  <tbody>\n",
       "    <tr>\n",
       "      <th>1927</th>\n",
       "      <td>2020-04-10</td>\n",
       "      <td>10</td>\n",
       "      <td>4</td>\n",
       "      <td>2020</td>\n",
       "      <td>55</td>\n",
       "      <td>1</td>\n",
       "      <td>China</td>\n",
       "      <td>CN</td>\n",
       "      <td>CHN</td>\n",
       "      <td>1.392730e+09</td>\n",
       "    </tr>\n",
       "    <tr>\n",
       "      <th>1928</th>\n",
       "      <td>2020-04-09</td>\n",
       "      <td>9</td>\n",
       "      <td>4</td>\n",
       "      <td>2020</td>\n",
       "      <td>86</td>\n",
       "      <td>2</td>\n",
       "      <td>China</td>\n",
       "      <td>CN</td>\n",
       "      <td>CHN</td>\n",
       "      <td>1.392730e+09</td>\n",
       "    </tr>\n",
       "    <tr>\n",
       "      <th>1929</th>\n",
       "      <td>2020-04-08</td>\n",
       "      <td>8</td>\n",
       "      <td>4</td>\n",
       "      <td>2020</td>\n",
       "      <td>86</td>\n",
       "      <td>2</td>\n",
       "      <td>China</td>\n",
       "      <td>CN</td>\n",
       "      <td>CHN</td>\n",
       "      <td>1.392730e+09</td>\n",
       "    </tr>\n",
       "    <tr>\n",
       "      <th>1930</th>\n",
       "      <td>2020-04-07</td>\n",
       "      <td>7</td>\n",
       "      <td>4</td>\n",
       "      <td>2020</td>\n",
       "      <td>56</td>\n",
       "      <td>0</td>\n",
       "      <td>China</td>\n",
       "      <td>CN</td>\n",
       "      <td>CHN</td>\n",
       "      <td>1.392730e+09</td>\n",
       "    </tr>\n",
       "    <tr>\n",
       "      <th>1931</th>\n",
       "      <td>2020-04-06</td>\n",
       "      <td>6</td>\n",
       "      <td>4</td>\n",
       "      <td>2020</td>\n",
       "      <td>67</td>\n",
       "      <td>2</td>\n",
       "      <td>China</td>\n",
       "      <td>CN</td>\n",
       "      <td>CHN</td>\n",
       "      <td>1.392730e+09</td>\n",
       "    </tr>\n",
       "    <tr>\n",
       "      <th>1932</th>\n",
       "      <td>2020-04-05</td>\n",
       "      <td>5</td>\n",
       "      <td>4</td>\n",
       "      <td>2020</td>\n",
       "      <td>48</td>\n",
       "      <td>3</td>\n",
       "      <td>China</td>\n",
       "      <td>CN</td>\n",
       "      <td>CHN</td>\n",
       "      <td>1.392730e+09</td>\n",
       "    </tr>\n",
       "    <tr>\n",
       "      <th>1933</th>\n",
       "      <td>2020-04-04</td>\n",
       "      <td>4</td>\n",
       "      <td>4</td>\n",
       "      <td>2020</td>\n",
       "      <td>62</td>\n",
       "      <td>4</td>\n",
       "      <td>China</td>\n",
       "      <td>CN</td>\n",
       "      <td>CHN</td>\n",
       "      <td>1.392730e+09</td>\n",
       "    </tr>\n",
       "    <tr>\n",
       "      <th>1934</th>\n",
       "      <td>2020-04-03</td>\n",
       "      <td>3</td>\n",
       "      <td>4</td>\n",
       "      <td>2020</td>\n",
       "      <td>70</td>\n",
       "      <td>10</td>\n",
       "      <td>China</td>\n",
       "      <td>CN</td>\n",
       "      <td>CHN</td>\n",
       "      <td>1.392730e+09</td>\n",
       "    </tr>\n",
       "    <tr>\n",
       "      <th>1935</th>\n",
       "      <td>2020-04-02</td>\n",
       "      <td>2</td>\n",
       "      <td>4</td>\n",
       "      <td>2020</td>\n",
       "      <td>100</td>\n",
       "      <td>6</td>\n",
       "      <td>China</td>\n",
       "      <td>CN</td>\n",
       "      <td>CHN</td>\n",
       "      <td>1.392730e+09</td>\n",
       "    </tr>\n",
       "    <tr>\n",
       "      <th>1936</th>\n",
       "      <td>2020-04-01</td>\n",
       "      <td>1</td>\n",
       "      <td>4</td>\n",
       "      <td>2020</td>\n",
       "      <td>54</td>\n",
       "      <td>1</td>\n",
       "      <td>China</td>\n",
       "      <td>CN</td>\n",
       "      <td>CHN</td>\n",
       "      <td>1.392730e+09</td>\n",
       "    </tr>\n",
       "  </tbody>\n",
       "</table>\n",
       "</div>"
      ],
      "text/plain": [
       "        dateRep  day  month  year  cases  deaths countriesAndTerritories  \\\n",
       "1927 2020-04-10   10      4  2020     55       1                   China   \n",
       "1928 2020-04-09    9      4  2020     86       2                   China   \n",
       "1929 2020-04-08    8      4  2020     86       2                   China   \n",
       "1930 2020-04-07    7      4  2020     56       0                   China   \n",
       "1931 2020-04-06    6      4  2020     67       2                   China   \n",
       "1932 2020-04-05    5      4  2020     48       3                   China   \n",
       "1933 2020-04-04    4      4  2020     62       4                   China   \n",
       "1934 2020-04-03    3      4  2020     70      10                   China   \n",
       "1935 2020-04-02    2      4  2020    100       6                   China   \n",
       "1936 2020-04-01    1      4  2020     54       1                   China   \n",
       "\n",
       "     geoId countryterritoryCode   popData2018  \n",
       "1927    CN                  CHN  1.392730e+09  \n",
       "1928    CN                  CHN  1.392730e+09  \n",
       "1929    CN                  CHN  1.392730e+09  \n",
       "1930    CN                  CHN  1.392730e+09  \n",
       "1931    CN                  CHN  1.392730e+09  \n",
       "1932    CN                  CHN  1.392730e+09  \n",
       "1933    CN                  CHN  1.392730e+09  \n",
       "1934    CN                  CHN  1.392730e+09  \n",
       "1935    CN                  CHN  1.392730e+09  \n",
       "1936    CN                  CHN  1.392730e+09  "
      ]
     },
     "execution_count": 11,
     "metadata": {},
     "output_type": "execute_result"
    }
   ],
   "source": [
    "china_data = df.loc[df['countriesAndTerritories'] == 'China']\n",
    "china_data[:10] #the top 10 rows"
   ]
  },
  {
   "cell_type": "markdown",
   "metadata": {},
   "source": [
    "## 4. Number of cases in China related to their deaths"
   ]
  },
  {
   "cell_type": "code",
   "execution_count": 15,
   "metadata": {},
   "outputs": [
    {
     "data": {
      "text/plain": [
       "<matplotlib.axes._subplots.AxesSubplot at 0x7f7e88149128>"
      ]
     },
     "execution_count": 15,
     "metadata": {},
     "output_type": "execute_result"
    },
    {
     "data": {
      "image/png": "[encoded data removed]",
      "text/plain": [
       "<Figure size 432x288 with 1 Axes>"
      ]
     },
     "metadata": {},
     "output_type": "display_data"
    }
   ],
   "source": [
    "china_data.plot.scatter(x='cases',y='deaths')"
   ]
  },
  {
   "cell_type": "markdown",
   "metadata": {},
   "source": [
    "This graph shows the relationship between the number of cases and deaths in China. However, I think it better highlights the confusion and possible deception surrounding the true number of cases and deaths in China"
   ]
  },
  {
   "cell_type": "markdown",
   "metadata": {},
   "source": [
    "\n",
    "## 5. The Sum of Cases in China per Day"
   ]
  },
  {
   "cell_type": "code",
   "execution_count": 18,
   "metadata": {},
   "outputs": [
    {
     "data": {
      "text/plain": [
       "<matplotlib.axes._subplots.AxesSubplot at 0x7f7e87f20780>"
      ]
     },
     "execution_count": 18,
     "metadata": {},
     "output_type": "execute_result"
    },
    {
     "data": {
      "image/png": "[encoded data removed]",
      "text/plain": [
       "<Figure size 432x288 with 1 Axes>"
      ]
     },
     "metadata": {},
     "output_type": "display_data"
    }
   ],
   "source": [
    "china_data = df.groupby('dateRep').sum()['cases']\n",
    "china_data.plot()"
   ]
  },
  {
   "cell_type": "markdown",
   "metadata": {},
   "source": [
    "This chart shows that the most cases were from the months of March and April "
   ]
  },
  {
   "cell_type": "code",
   "execution_count": null,
   "metadata": {},
   "outputs": [],
   "source": []
  }
 ],
 "metadata": {
  "kernelspec": {
   "display_name": "conda_python3",
   "language": "python",
   "name": "conda_python3"
  },
  "language_info": {
   "codemirror_mode": {
    "name": "ipython",
    "version": 3
   },
   "file_extension": ".py",
   "mimetype": "text/x-python",
   "name": "python",
   "nbconvert_exporter": "python",
   "pygments_lexer": "ipython3",
   "version": "3.6.5"
  }
 },
 "nbformat": 4,
 "nbformat_minor": 4
}
